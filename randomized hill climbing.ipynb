{
 "cells": [
  {
   "cell_type": "code",
   "execution_count": 9,
   "metadata": {},
   "outputs": [],
   "source": [
    "import matplotlib.pyplot as plt\n",
    "import seaborn as sns\n",
    "import numpy as np\n",
    "from sklearn.model_selection import cross_validate \n",
    "import random \n",
    "from sklearn.model_selection import KFold  \n",
    "from sklearn.ensemble import RandomForestClassifier"
   ]
  },
  {
   "cell_type": "markdown",
   "metadata": {},
   "source": [
    "load dataset from seaborn"
   ]
  },
  {
   "cell_type": "code",
   "execution_count": 10,
   "metadata": {},
   "outputs": [
    {
     "data": {
      "text/html": [
       "<div>\n",
       "<style scoped>\n",
       "    .dataframe tbody tr th:only-of-type {\n",
       "        vertical-align: middle;\n",
       "    }\n",
       "\n",
       "    .dataframe tbody tr th {\n",
       "        vertical-align: top;\n",
       "    }\n",
       "\n",
       "    .dataframe thead th {\n",
       "        text-align: right;\n",
       "    }\n",
       "</style>\n",
       "<table border=\"1\" class=\"dataframe\">\n",
       "  <thead>\n",
       "    <tr style=\"text-align: right;\">\n",
       "      <th></th>\n",
       "      <th>species</th>\n",
       "      <th>island</th>\n",
       "      <th>bill_length_mm</th>\n",
       "      <th>bill_depth_mm</th>\n",
       "      <th>flipper_length_mm</th>\n",
       "      <th>body_mass_g</th>\n",
       "      <th>sex</th>\n",
       "    </tr>\n",
       "  </thead>\n",
       "  <tbody>\n",
       "    <tr>\n",
       "      <th>0</th>\n",
       "      <td>Adelie</td>\n",
       "      <td>Torgersen</td>\n",
       "      <td>39.1</td>\n",
       "      <td>18.7</td>\n",
       "      <td>181.0</td>\n",
       "      <td>3750.0</td>\n",
       "      <td>Male</td>\n",
       "    </tr>\n",
       "    <tr>\n",
       "      <th>1</th>\n",
       "      <td>Adelie</td>\n",
       "      <td>Torgersen</td>\n",
       "      <td>39.5</td>\n",
       "      <td>17.4</td>\n",
       "      <td>186.0</td>\n",
       "      <td>3800.0</td>\n",
       "      <td>Female</td>\n",
       "    </tr>\n",
       "    <tr>\n",
       "      <th>2</th>\n",
       "      <td>Adelie</td>\n",
       "      <td>Torgersen</td>\n",
       "      <td>40.3</td>\n",
       "      <td>18.0</td>\n",
       "      <td>195.0</td>\n",
       "      <td>3250.0</td>\n",
       "      <td>Female</td>\n",
       "    </tr>\n",
       "  </tbody>\n",
       "</table>\n",
       "</div>"
      ],
      "text/plain": [
       "  species     island  bill_length_mm  bill_depth_mm  flipper_length_mm  \\\n",
       "0  Adelie  Torgersen            39.1           18.7              181.0   \n",
       "1  Adelie  Torgersen            39.5           17.4              186.0   \n",
       "2  Adelie  Torgersen            40.3           18.0              195.0   \n",
       "\n",
       "   body_mass_g     sex  \n",
       "0       3750.0    Male  \n",
       "1       3800.0  Female  \n",
       "2       3250.0  Female  "
      ]
     },
     "execution_count": 10,
     "metadata": {},
     "output_type": "execute_result"
    }
   ],
   "source": [
    "df = sns.load_dataset('penguins')\n",
    "df.head(3)"
   ]
  },
  {
   "cell_type": "code",
   "execution_count": 11,
   "metadata": {},
   "outputs": [
    {
     "data": {
      "text/plain": [
       "0"
      ]
     },
     "execution_count": 11,
     "metadata": {},
     "output_type": "execute_result"
    }
   ],
   "source": [
    "df.dropna(inplace = True) \n",
    "df.duplicated().sum()"
   ]
  },
  {
   "cell_type": "code",
   "execution_count": 15,
   "metadata": {},
   "outputs": [
    {
     "name": "stdout",
     "output_type": "stream",
     "text": [
      "current \n",
      "max_depth :  43\n",
      "n_estimator :  68\n",
      "max_feat :  0.89\n",
      "temperature :  300\n",
      "current_score :  0.7327001356852103\n",
      "==========================================================================================\n",
      "best \n",
      "max_depth :  1\n",
      "n_estimator :  1\n",
      "max_feat :  0.01\n",
      "temperature :  300\n",
      "max_score :  0.7327001356852103\n",
      "==========================================================================================\n",
      "current \n",
      "max_depth :  8\n",
      "n_estimator :  93\n",
      "max_feat :  0.58\n",
      "temperature :  250\n",
      "current_score :  0.9699231117141565\n",
      "==========================================================================================\n",
      "best \n",
      "max_depth :  31\n",
      "n_estimator :  23\n",
      "max_feat :  0.05\n",
      "temperature :  298\n",
      "max_score :  0.9849841700587969\n",
      "==========================================================================================\n",
      "current \n",
      "max_depth :  40\n",
      "n_estimator :  90\n",
      "max_feat :  0.05\n",
      "temperature :  200\n",
      "current_score :  0.9729534147444596\n",
      "==========================================================================================\n",
      "best \n",
      "max_depth :  31\n",
      "n_estimator :  23\n",
      "max_feat :  0.05\n",
      "temperature :  298\n",
      "max_score :  0.9849841700587969\n",
      "==========================================================================================\n",
      "current \n",
      "max_depth :  12\n",
      "n_estimator :  95\n",
      "max_feat :  0.42\n",
      "temperature :  150\n",
      "current_score :  0.9789687924016282\n",
      "==========================================================================================\n",
      "best \n",
      "max_depth :  31\n",
      "n_estimator :  23\n",
      "max_feat :  0.05\n",
      "temperature :  298\n",
      "max_score :  0.9849841700587969\n",
      "==========================================================================================\n",
      "current \n",
      "max_depth :  12\n",
      "n_estimator :  76\n",
      "max_feat :  0.32\n",
      "temperature :  100\n",
      "current_score :  0.9789687924016282\n",
      "==========================================================================================\n",
      "best \n",
      "max_depth :  31\n",
      "n_estimator :  23\n",
      "max_feat :  0.05\n",
      "temperature :  298\n",
      "max_score :  0.9849841700587969\n",
      "==========================================================================================\n",
      "current \n",
      "max_depth :  10\n",
      "n_estimator :  91\n",
      "max_feat :  0.6\n",
      "temperature :  50\n",
      "current_score :  0.9758480325644505\n",
      "==========================================================================================\n",
      "best \n",
      "max_depth :  31\n",
      "n_estimator :  23\n",
      "max_feat :  0.05\n",
      "temperature :  298\n",
      "max_score :  0.9849841700587969\n",
      "==========================================================================================\n"
     ]
    }
   ],
   "source": [
    "X = df[['bill_length_mm' ,\t'bill_depth_mm'\t, 'flipper_length_mm']]  \n",
    "y = df['species']  \n",
    "max_feat = range(1,100,1)  \n",
    "max_feat = [x/100 for x in max_feat] \n",
    "init = 0 \n",
    "tmax = 300 \n",
    "ctemp = 0 \n",
    "cv = KFold(n_splits=5, shuffle=True) \n",
    "init=0   \n",
    "max_depths = [x for x in range(1,50)] \n",
    "n_estimator = [x for x in range(1,100)] \n",
    "init_max_feat = 0\n",
    "init_max_depth = 0 \n",
    "init_n_estimators = 0 \n",
    "max = 0\n",
    "model = RandomForestClassifier(max_features=max_feat[init_max_feat],\n",
    "                                   random_state=1, \n",
    "                                   n_estimators= n_estimator[init_n_estimators],      #model initialization\n",
    "                                   max_depth = max_depths[init_max_depth])  \n",
    "while(tmax > 0)  :   \n",
    "    next_init = {'next_init_max_depth' : np.random.randint(0,len(max_depths)), \n",
    "                 'next_init_n_estimators' : np.random.randint(0, len(n_estimator)),  #random every params for next iterations\n",
    "                 'next_init_max_feat' : np.random.randint(0, len(max_feat))}  \n",
    "   \n",
    "    next_model = RandomForestClassifier(max_features=max_feat[next_init['next_init_max_feat']],\n",
    "                                         random_state=1, \n",
    "                                         n_estimators = n_estimator[next_init['next_init_n_estimators']], #initiate next model with randomly generated value.\n",
    "                                         max_depth = max_depths[next_init['next_init_max_depth']]) \n",
    "    c_eval = cross_validate(estimator = model , X = X,y=y, scoring='accuracy', return_train_score=True, cv=cv) \n",
    "    n_eval = cross_validate(estimator = next_model , X = X,y=y, scoring='accuracy', return_train_score=True, cv=cv) \n",
    "    current_score = np.mean(c_eval['test_score']) \n",
    "    next_score = np.mean(n_eval['test_score']) \n",
    "\n",
    "    if (tmax ==300) : \n",
    "      max = current_score  #max initialization \n",
    "      best_model = model\n",
    "      temperature = tmax\n",
    "\n",
    "    else : \n",
    "      if (current_score > max) : \n",
    "         max = current_score     #climb. \n",
    "         best_temp = tmax \n",
    "         best_model = model\n",
    "         temperature = tmax\n",
    "\n",
    "    score_diff = next_score - current_score \n",
    "    if (score_diff > 0) : \n",
    "       model = next_model  \n",
    "\n",
    "    if (tmax%50==0) : \n",
    "       print('current ') \n",
    "       print('max_depth : ', model.get_params()['max_depth']) \n",
    "       print('n_estimator : ', model.get_params()['n_estimators'])\n",
    "       print('max_feat : ', model.get_params()['max_features'])\n",
    "       print('temperature : ', tmax) \n",
    "       print('current_score : ', current_score) \n",
    "       \n",
    "       print('='*90) \n",
    "\n",
    "       print('best ') \n",
    "       print('max_depth : ', best_model.get_params()['max_depth']) \n",
    "       print('n_estimator : ', best_model.get_params()['n_estimators'])\n",
    "       print('max_feat : ', best_model.get_params()['max_features'])\n",
    "       print('temperature : ', temperature) \n",
    "       print('max_score : ', max) \n",
    "       print('='*90)\n",
    "    tmax = tmax - 1\n",
    "\n",
    "    \n",
    "    "
   ]
  },
  {
   "cell_type": "code",
   "execution_count": 16,
   "metadata": {},
   "outputs": [
    {
     "data": {
      "text/plain": [
       "RandomForestClassifier(max_depth=31, max_features=0.05, n_estimators=23,\n",
       "                       random_state=1)"
      ]
     },
     "execution_count": 16,
     "metadata": {},
     "output_type": "execute_result"
    }
   ],
   "source": [
    "best_model"
   ]
  }
 ],
 "metadata": {
  "kernelspec": {
   "display_name": "Python 3.9.12 ('base')",
   "language": "python",
   "name": "python3"
  },
  "language_info": {
   "codemirror_mode": {
    "name": "ipython",
    "version": 3
   },
   "file_extension": ".py",
   "mimetype": "text/x-python",
   "name": "python",
   "nbconvert_exporter": "python",
   "pygments_lexer": "ipython3",
   "version": "3.9.12"
  },
  "orig_nbformat": 4,
  "vscode": {
   "interpreter": {
    "hash": "52b6327b5502200fc21737c72895086de620bd42df370ac5e831e05653bab58c"
   }
  }
 },
 "nbformat": 4,
 "nbformat_minor": 2
}
